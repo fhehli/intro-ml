{
 "cells": [
  {
   "cell_type": "code",
   "execution_count": 72,
   "metadata": {},
   "outputs": [],
   "source": [
    "import sys\n",
    "import logging\n",
    "import warnings\n",
    "\n",
    "import numpy as np\n",
    "import scipy as sp\n",
    "\n",
    "%reload_ext autoreload\n",
    "%autoreload 2\n",
    "\n",
    "import matplotlib.pyplot as plt\n",
    "# %matplotlib inline\n",
    "# %config InlineBackend.figure_format = 'retina'\n",
    "\n",
    "import seaborn as sns\n",
    "sns.set_context(\"poster\")\n",
    "sns.set(rc={'figure.figsize': (16, 9.)})\n",
    "sns.set_style(\"whitegrid\")\n",
    "\n",
    "import pandas as pd\n",
    "pd.set_option(\"display.max_rows\", 10)\n",
    "pd.set_option(\"display.max_columns\", 120)\n",
    "\n",
    "logging.basicConfig(level=logging.INFO, stream=sys.stdout)"
   ]
  },
  {
   "cell_type": "code",
   "execution_count": 73,
   "metadata": {},
   "outputs": [
    {
     "data": {
      "text/html": [
       "<div>\n",
       "<style scoped>\n",
       "    .dataframe tbody tr th:only-of-type {\n",
       "        vertical-align: middle;\n",
       "    }\n",
       "\n",
       "    .dataframe tbody tr th {\n",
       "        vertical-align: top;\n",
       "    }\n",
       "\n",
       "    .dataframe thead th {\n",
       "        text-align: right;\n",
       "    }\n",
       "</style>\n",
       "<table border=\"1\" class=\"dataframe\">\n",
       "  <thead>\n",
       "    <tr style=\"text-align: right;\">\n",
       "      <th></th>\n",
       "      <th>y</th>\n",
       "      <th>x1</th>\n",
       "      <th>x2</th>\n",
       "      <th>x3</th>\n",
       "      <th>x4</th>\n",
       "      <th>x5</th>\n",
       "    </tr>\n",
       "    <tr>\n",
       "      <th>Id</th>\n",
       "      <th></th>\n",
       "      <th></th>\n",
       "      <th></th>\n",
       "      <th></th>\n",
       "      <th></th>\n",
       "      <th></th>\n",
       "    </tr>\n",
       "  </thead>\n",
       "  <tbody>\n",
       "    <tr>\n",
       "      <th>0</th>\n",
       "      <td>-6.822679</td>\n",
       "      <td>0.02</td>\n",
       "      <td>0.05</td>\n",
       "      <td>-0.09</td>\n",
       "      <td>-0.43</td>\n",
       "      <td>-0.08</td>\n",
       "    </tr>\n",
       "    <tr>\n",
       "      <th>1</th>\n",
       "      <td>-6.326290</td>\n",
       "      <td>-0.13</td>\n",
       "      <td>0.11</td>\n",
       "      <td>-0.08</td>\n",
       "      <td>-0.29</td>\n",
       "      <td>-0.03</td>\n",
       "    </tr>\n",
       "    <tr>\n",
       "      <th>2</th>\n",
       "      <td>-9.302728</td>\n",
       "      <td>0.08</td>\n",
       "      <td>0.06</td>\n",
       "      <td>-0.07</td>\n",
       "      <td>-0.41</td>\n",
       "      <td>-0.03</td>\n",
       "    </tr>\n",
       "    <tr>\n",
       "      <th>3</th>\n",
       "      <td>-7.371893</td>\n",
       "      <td>0.02</td>\n",
       "      <td>-0.12</td>\n",
       "      <td>0.01</td>\n",
       "      <td>-0.43</td>\n",
       "      <td>-0.02</td>\n",
       "    </tr>\n",
       "    <tr>\n",
       "      <th>4</th>\n",
       "      <td>-6.027647</td>\n",
       "      <td>-0.14</td>\n",
       "      <td>-0.12</td>\n",
       "      <td>-0.08</td>\n",
       "      <td>-0.02</td>\n",
       "      <td>-0.08</td>\n",
       "    </tr>\n",
       "  </tbody>\n",
       "</table>\n",
       "</div>"
      ],
      "text/plain": [
       "           y    x1    x2    x3    x4    x5\n",
       "Id                                        \n",
       "0  -6.822679  0.02  0.05 -0.09 -0.43 -0.08\n",
       "1  -6.326290 -0.13  0.11 -0.08 -0.29 -0.03\n",
       "2  -9.302728  0.08  0.06 -0.07 -0.41 -0.03\n",
       "3  -7.371893  0.02 -0.12  0.01 -0.43 -0.02\n",
       "4  -6.027647 -0.14 -0.12 -0.08 -0.02 -0.08"
      ]
     },
     "execution_count": 73,
     "metadata": {},
     "output_type": "execute_result"
    }
   ],
   "source": [
    "df = pd.read_csv('../train.csv', index_col=0)\n",
    "df.head()"
   ]
  },
  {
   "cell_type": "code",
   "execution_count": 74,
   "metadata": {},
   "outputs": [
    {
     "data": {
      "text/html": [
       "<div>\n",
       "<style scoped>\n",
       "    .dataframe tbody tr th:only-of-type {\n",
       "        vertical-align: middle;\n",
       "    }\n",
       "\n",
       "    .dataframe tbody tr th {\n",
       "        vertical-align: top;\n",
       "    }\n",
       "\n",
       "    .dataframe thead th {\n",
       "        text-align: right;\n",
       "    }\n",
       "</style>\n",
       "<table border=\"1\" class=\"dataframe\">\n",
       "  <thead>\n",
       "    <tr style=\"text-align: right;\">\n",
       "      <th></th>\n",
       "      <th>y</th>\n",
       "      <th>x1</th>\n",
       "      <th>x2</th>\n",
       "      <th>x3</th>\n",
       "      <th>x4</th>\n",
       "      <th>x5</th>\n",
       "    </tr>\n",
       "  </thead>\n",
       "  <tbody>\n",
       "    <tr>\n",
       "      <th>count</th>\n",
       "      <td>700.000000</td>\n",
       "      <td>700.000000</td>\n",
       "      <td>700.000000</td>\n",
       "      <td>700.000000</td>\n",
       "      <td>700.000000</td>\n",
       "      <td>700.000000</td>\n",
       "    </tr>\n",
       "    <tr>\n",
       "      <th>mean</th>\n",
       "      <td>-6.308362</td>\n",
       "      <td>-0.057814</td>\n",
       "      <td>-0.054686</td>\n",
       "      <td>-0.059786</td>\n",
       "      <td>-0.281814</td>\n",
       "      <td>-0.055900</td>\n",
       "    </tr>\n",
       "    <tr>\n",
       "      <th>std</th>\n",
       "      <td>1.968879</td>\n",
       "      <td>0.138694</td>\n",
       "      <td>0.120136</td>\n",
       "      <td>0.083381</td>\n",
       "      <td>0.150631</td>\n",
       "      <td>0.052697</td>\n",
       "    </tr>\n",
       "    <tr>\n",
       "      <th>min</th>\n",
       "      <td>-12.719333</td>\n",
       "      <td>-0.450000</td>\n",
       "      <td>-0.420000</td>\n",
       "      <td>-0.350000</td>\n",
       "      <td>-0.520000</td>\n",
       "      <td>-0.560000</td>\n",
       "    </tr>\n",
       "    <tr>\n",
       "      <th>25%</th>\n",
       "      <td>-7.657336</td>\n",
       "      <td>-0.150000</td>\n",
       "      <td>-0.140000</td>\n",
       "      <td>-0.110000</td>\n",
       "      <td>-0.390000</td>\n",
       "      <td>-0.080000</td>\n",
       "    </tr>\n",
       "    <tr>\n",
       "      <th>50%</th>\n",
       "      <td>-6.335041</td>\n",
       "      <td>-0.070000</td>\n",
       "      <td>-0.060000</td>\n",
       "      <td>-0.050000</td>\n",
       "      <td>-0.330000</td>\n",
       "      <td>-0.050000</td>\n",
       "    </tr>\n",
       "    <tr>\n",
       "      <th>75%</th>\n",
       "      <td>-5.005213</td>\n",
       "      <td>0.020000</td>\n",
       "      <td>0.020000</td>\n",
       "      <td>-0.010000</td>\n",
       "      <td>-0.200000</td>\n",
       "      <td>-0.030000</td>\n",
       "    </tr>\n",
       "    <tr>\n",
       "      <th>max</th>\n",
       "      <td>1.332858</td>\n",
       "      <td>0.380000</td>\n",
       "      <td>0.360000</td>\n",
       "      <td>0.190000</td>\n",
       "      <td>0.440000</td>\n",
       "      <td>0.070000</td>\n",
       "    </tr>\n",
       "  </tbody>\n",
       "</table>\n",
       "</div>"
      ],
      "text/plain": [
       "                y          x1          x2          x3          x4          x5\n",
       "count  700.000000  700.000000  700.000000  700.000000  700.000000  700.000000\n",
       "mean    -6.308362   -0.057814   -0.054686   -0.059786   -0.281814   -0.055900\n",
       "std      1.968879    0.138694    0.120136    0.083381    0.150631    0.052697\n",
       "min    -12.719333   -0.450000   -0.420000   -0.350000   -0.520000   -0.560000\n",
       "25%     -7.657336   -0.150000   -0.140000   -0.110000   -0.390000   -0.080000\n",
       "50%     -6.335041   -0.070000   -0.060000   -0.050000   -0.330000   -0.050000\n",
       "75%     -5.005213    0.020000    0.020000   -0.010000   -0.200000   -0.030000\n",
       "max      1.332858    0.380000    0.360000    0.190000    0.440000    0.070000"
      ]
     },
     "execution_count": 74,
     "metadata": {},
     "output_type": "execute_result"
    }
   ],
   "source": [
    "df.describe()"
   ]
  },
  {
   "cell_type": "code",
   "execution_count": 75,
   "metadata": {},
   "outputs": [
    {
     "data": {
      "text/plain": [
       "(700, 21)"
      ]
     },
     "execution_count": 75,
     "metadata": {},
     "output_type": "execute_result"
    }
   ],
   "source": [
    "data = df.to_numpy()\n",
    "X, y = data[:, 1:], data[:, 0]\n",
    "\n",
    "Phi = np.concatenate((X, X**2, np.exp(X), np.cos(X), np.ones((X.shape[0], 1))), axis=1)\n",
    "Phi.shape"
   ]
  },
  {
   "cell_type": "code",
   "execution_count": 76,
   "metadata": {},
   "outputs": [
    {
     "data": {
      "text/plain": [
       "[2.5050351506821755, 2.0993647229310843, 2.090929493439855]"
      ]
     },
     "execution_count": 76,
     "metadata": {},
     "output_type": "execute_result"
    }
   ],
   "source": [
    "from sklearn.model_selection import cross_validate\n",
    "from sklearn.linear_model import LinearRegression\n",
    "\n",
    "Ks = [2, 5, 10]\n",
    "scores = []\n",
    "\n",
    "for K in Ks:\n",
    "    results = cross_validate(LinearRegression(), Phi, y, cv=K, scoring='neg_root_mean_squared_error')\n",
    "    scores += [-results['test_score'].mean()]\n",
    "\n",
    "scores"
   ]
  },
  {
   "cell_type": "markdown",
   "metadata": {},
   "source": [
    "## Ridge"
   ]
  },
  {
   "cell_type": "code",
   "execution_count": 77,
   "metadata": {},
   "outputs": [
    {
     "name": "stdout",
     "output_type": "stream",
     "text": [
      "Best lambdas:\n",
      "K=2:     19 with score 1.9641841653229637\n",
      "K=3:     4 with score 1.956727582642327\n",
      "K=4:     4 with score 1.95814408487681\n",
      "K=5:     4 with score 1.9614694302731703\n",
      "K=6:     3 with score 1.9530755999700011\n",
      "K=7:     5 with score 1.9588700209493335\n",
      "K=8:     5 with score 1.9499058563629912\n",
      "K=9:     3 with score 1.9555750247079782\n"
     ]
    }
   ],
   "source": [
    "from sklearn.model_selection import GridSearchCV\n",
    "from sklearn.linear_model import Ridge\n",
    "\n",
    "Ks = np.arange(2, 10)\n",
    "lambdas = [.001, .005, .01, .25, .1, .3, .5] + list(range(1,20)) + [50, 100]\n",
    "param_grid = {'alpha': lambdas}\n",
    "\n",
    "best_scores = dict.fromkeys(Ks)\n",
    "best_lambdas = dict.fromkeys(Ks)\n",
    "\n",
    "for K in Ks:\n",
    "    clf = GridSearchCV(Ridge(), param_grid, cv=K, scoring='neg_root_mean_squared_error')\n",
    "    clf.fit(Phi, y)\n",
    "\n",
    "    best_scores[K] = min(-clf.cv_results_['mean_test_score'])\n",
    "    best_lambdas[K] = clf.best_estimator_.get_params()['alpha']\n",
    "\n",
    "print('Best lambdas:')\n",
    "for K in Ks:\n",
    "    print(f'K={K}:     {best_lambdas[K]} with score {best_scores[K]}')"
   ]
  },
  {
   "cell_type": "code",
   "execution_count": 84,
   "metadata": {},
   "outputs": [
    {
     "name": "stdout",
     "output_type": "stream",
     "text": [
      "Best lambda (4.787878787878788) had average score 1.9499034976074852 on validation set\n"
     ]
    }
   ],
   "source": [
    "lambdas = list(np.linspace(2, 6, 100))\n",
    "param_grid = {'alpha': lambdas}\n",
    "\n",
    "scores = []\n",
    "\n",
    "clf = GridSearchCV(Ridge(), param_grid, cv=8, scoring='neg_root_mean_squared_error')\n",
    "clf.fit(Phi, y)\n",
    "\n",
    "scores = -clf.cv_results_['mean_test_score']\n",
    "best_lambda = clf.best_estimator_.get_params()['alpha']\n",
    "\n",
    "\n",
    "print(f'Best lambda ({best_lambda}) had average score {min(scores)} on validation set')"
   ]
  },
  {
   "cell_type": "markdown",
   "metadata": {},
   "source": [
    "## Lasso"
   ]
  },
  {
   "cell_type": "code",
   "execution_count": 79,
   "metadata": {},
   "outputs": [
    {
     "name": "stdout",
     "output_type": "stream",
     "text": [
      "Best lambda (0.005) had average score 1.9459369332624643 on validation set\n"
     ]
    }
   ],
   "source": [
    "from sklearn.linear_model import Lasso\n",
    "\n",
    "lambdas = [.001, .005, .01, .25, .1, .3, .5] + list(range(1,20)) + [50, 100]\n",
    "param_grid = {'alpha': lambdas}\n",
    "\n",
    "scores = []\n",
    "\n",
    "clf = GridSearchCV(Lasso(), param_grid, cv=8, scoring='neg_root_mean_squared_error')\n",
    "clf.fit(Phi, y)\n",
    "\n",
    "scores = -clf.cv_results_['mean_test_score']\n",
    "best_lambda = clf.best_estimator_.get_params()['alpha']\n",
    "\n",
    "\n",
    "print(f'Best lambda ({best_lambda}) had average score {min(scores)} on validation set')"
   ]
  },
  {
   "cell_type": "code",
   "execution_count": 80,
   "metadata": {},
   "outputs": [
    {
     "name": "stdout",
     "output_type": "stream",
     "text": [
      "Best lambda (0.0038181818181818187) had average score 1.9456735716763538 on validation set\n"
     ]
    }
   ],
   "source": [
    "lambdas = list(np.linspace(0.001, 0.01, 100))\n",
    "param_grid = {'alpha': lambdas}\n",
    "\n",
    "scores = []\n",
    "\n",
    "clf = GridSearchCV(Lasso(), param_grid, cv=8, scoring='neg_root_mean_squared_error')\n",
    "clf.fit(Phi, y)\n",
    "\n",
    "scores = -clf.cv_results_['mean_test_score']\n",
    "best_lambda = clf.best_estimator_.get_params()['alpha']\n",
    "\n",
    "\n",
    "print(f'Best lambda ({best_lambda}) had average score {min(scores)} on validation set')"
   ]
  },
  {
   "cell_type": "markdown",
   "metadata": {},
   "source": [
    "## Huber loss"
   ]
  },
  {
   "cell_type": "code",
   "execution_count": 82,
   "metadata": {},
   "outputs": [
    {
     "name": "stdout",
     "output_type": "stream",
     "text": [
      "Best lambda (3) had average score 1.9502500174257702 on validation set\n"
     ]
    }
   ],
   "source": [
    "from sklearn.linear_model import HuberRegressor\n",
    "\n",
    "lambdas = [.001, .005, .01, .25, .1, .3, .5] + list(range(1,20)) + [50, 100]\n",
    "param_grid = {'alpha': lambdas, 'max_iter': [1000]}\n",
    "\n",
    "scores = []\n",
    "\n",
    "clf = GridSearchCV(HuberRegressor(), param_grid, cv=8, scoring='neg_root_mean_squared_error')\n",
    "clf.fit(Phi, y)\n",
    "\n",
    "scores = -clf.cv_results_['mean_test_score']\n",
    "best_lambda = clf.best_estimator_.get_params()['alpha']\n",
    "\n",
    "print(f'Best lambda ({best_lambda}) had average score {min(scores)} on validation set')\n"
   ]
  },
  {
   "cell_type": "code",
   "execution_count": 83,
   "metadata": {},
   "outputs": [
    {
     "name": "stdout",
     "output_type": "stream",
     "text": [
      "Best lambda (2.8737373737373737) had average score 1.950221632454722 on validation set\n"
     ]
    }
   ],
   "source": [
    "lambdas = list(np.linspace(2.5, 3.5, 100))\n",
    "param_grid = {'alpha': lambdas, 'max_iter': [1000]}\n",
    "\n",
    "scores = []\n",
    "\n",
    "clf = GridSearchCV(HuberRegressor(), param_grid, cv=8, scoring='neg_root_mean_squared_error')\n",
    "clf.fit(Phi, y)\n",
    "\n",
    "scores = -clf.cv_results_['mean_test_score']\n",
    "best_lambda = clf.best_estimator_.get_params()['alpha']\n",
    "\n",
    "print(f'Best lambda ({best_lambda}) had average score {min(scores)} on validation set')"
   ]
  }
 ],
 "metadata": {
  "interpreter": {
   "hash": "cd77a25fb6a60ea2ba875a28c7c94dfd43c3166db76578799a5a67b58aaf5dd6"
  },
  "kernelspec": {
   "display_name": "Python 3.7.11 ('intro-ml')",
   "language": "python",
   "name": "python3"
  },
  "language_info": {
   "codemirror_mode": {
    "name": "ipython",
    "version": 3
   },
   "file_extension": ".py",
   "mimetype": "text/x-python",
   "name": "python",
   "nbconvert_exporter": "python",
   "pygments_lexer": "ipython3",
   "version": "3.7.11"
  },
  "orig_nbformat": 4
 },
 "nbformat": 4,
 "nbformat_minor": 2
}
