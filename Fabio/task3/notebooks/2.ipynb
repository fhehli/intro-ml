{
 "cells": [
  {
   "cell_type": "code",
   "execution_count": 2,
   "metadata": {},
   "outputs": [],
   "source": [
    "import sys\n",
    "import logging\n",
    "\n",
    "import numpy as np\n",
    "import scipy as sp\n",
    "\n",
    "%reload_ext autoreload\n",
    "%autoreload 2\n",
    "\n",
    "import matplotlib.pyplot as plt\n",
    "%matplotlib inline\n",
    "%config InlineBackend.figure_format = 'retina'\n",
    "\n",
    "import seaborn as sns\n",
    "sns.set_context(\"poster\")\n",
    "sns.set(rc={'figure.figsize': (16, 9.)})\n",
    "sns.set_style(\"whitegrid\")\n",
    "\n",
    "import pandas as pd\n",
    "pd.set_option(\"display.max_rows\", 120)\n",
    "pd.set_option(\"display.max_columns\", 120)\n",
    "\n",
    "logging.basicConfig(level=logging.INFO, stream=sys.stdout)"
   ]
  },
  {
   "cell_type": "code",
   "execution_count": 3,
   "metadata": {},
   "outputs": [],
   "source": [
    "from PIL import Image\n",
    "import torch\n",
    "from torch import nn\n",
    "from torchvision import transforms, models\n",
    "from torch.utils.data import Dataset, DataLoader\n",
    "\n",
    "\n",
    "class TripletsDataset(Dataset):\n",
    "    def __init__(self, triplets_path, img_dir, transform=None):\n",
    "        self.triplets_path = triplets_path\n",
    "        self.img_dir = img_dir\n",
    "        self.transform = transform\n",
    "\n",
    "        with open(self.triplets_path) as f:\n",
    "            triplets = f.readlines()\n",
    "        triplets = [triplet.strip().split(\" \") for triplet in triplets]\n",
    "        self.labels = [int(triplet[-1]) for triplet in triplets]\n",
    "        self.triplets = [triplet[:-1] for triplet in triplets]\n",
    "\n",
    "    def __len__(self):\n",
    "        return len(self.triplets)\n",
    "\n",
    "    def __getitem__(self, idx):\n",
    "        triplet = self.triplets[idx]\n",
    "        label = self.labels[idx]\n",
    "        label = torch.tensor(label)\n",
    "\n",
    "        paths = [os.path.join(self.img_dir, f\"{i}.jpg\") for i in triplet]\n",
    "        images = [Image.open(path) for path in paths]\n",
    "\n",
    "        if self.transform:\n",
    "            images = [self.transform(image) for image in images]\n",
    "\n",
    "        return images, label\n"
   ]
  },
  {
   "cell_type": "code",
   "execution_count": 18,
   "metadata": {},
   "outputs": [],
   "source": [
    "import os\n",
    "from torch import nn\n",
    "from torchvision import models\n",
    "import torch.nn.functional as F\n",
    "from torch.optim import SGD\n",
    "import pytorch_lightning as pl\n",
    "\n",
    "\n",
    "class Classifier(pl.LightningModule):\n",
    "    def __init__(self, train_dataset, val_dataset, lr=1e-3, batch_size=64):\n",
    "        super().__init__()\n",
    "\n",
    "        self.train_dataset = train_dataset\n",
    "        self.val_dataset = val_dataset\n",
    "        self.batch_size = batch_size\n",
    "        self.learning_rate = lr\n",
    "        \n",
    "        self.efficientnet = models.efficientnet_b0(pretrained=True)\n",
    "        self.efficientnet.requires_grad_(False)  # no fine-tuning\n",
    "        self.embedding = nn.Sequential(\n",
    "            *list(self.efficientnet.children())[:-1]\n",
    "        )  # this is efficientnet without its classification layers\n",
    "        \n",
    "\n",
    "        self.classifier = nn.Sequential(\n",
    "            nn.Linear(in_features=3 * 1280, out_features=100),\n",
    "            nn.ReLU(),\n",
    "            nn.Dropout(p=0.5),\n",
    "            nn.Linear(100, 2),\n",
    "        ) # the classifier we are training\n",
    "\n",
    "        self.loss = nn.CrossEntropyLoss()\n",
    "\n",
    "    def forward(self, images):\n",
    "        img_a, img_b, img_c = images\n",
    "\n",
    "        phi_a = self.embedding(img_a).squeeze()\n",
    "        phi_b = self.embedding(img_b).squeeze()\n",
    "        phi_c = self.embedding(img_c).squeeze()\n",
    "        phi = torch.concat((phi_a, phi_b, phi_c), dim=1)\n",
    "\n",
    "        y_hat = self.classifier(phi)\n",
    "\n",
    "        return y_hat\n",
    "\n",
    "    def configure_optimizers(self):\n",
    "        return SGD(self.parameters(), lr=1e-3, weight_decay=1e-3)\n",
    "\n",
    "    def training_step(self, batch):\n",
    "        x, y = batch\n",
    "        # x = x.view(x.size(0), -1)\n",
    "        y_hat = self(x)\n",
    "        loss = self.loss(y_hat, y)\n",
    "\n",
    "        self.log(\"train_loss\", loss)\n",
    "        return loss\n",
    "\n",
    "    def validation_step(self, batch, batch_idx):\n",
    "        x, y = batch\n",
    "        y_hat = self(x)\n",
    "        loss = F.cross_entropy(y_hat, y)\n",
    "        self.log(\"val_loss\", loss)\n",
    "\n",
    "    def configure_optimizers(self):\n",
    "        optimizer = torch.optim.Adam(self.parameters(), lr=1e-3)\n",
    "        return optimizer\n",
    "\n",
    "    def train_dataloader(self):\n",
    "        loader = DataLoader(\n",
    "            dataset=self.train_dataset, batch_size=self.batch_size, num_workers=num_workers\n",
    "        )\n",
    "        return loader\n",
    "\n",
    "    def val_dataloader(self):\n",
    "        loader = DataLoader(\n",
    "            dataset=self.val_dataset, batch_size=self.batch_size, num_workers=num_workers\n",
    "        )\n",
    "        return loader"
   ]
  },
  {
   "cell_type": "code",
   "execution_count": 19,
   "metadata": {},
   "outputs": [
    {
     "name": "stdout",
     "output_type": "stream",
     "text": [
      "INFO:pytorch_lightning.utilities.rank_zero:GPU available: False, used: False\n",
      "INFO:pytorch_lightning.utilities.rank_zero:TPU available: False, using: 0 TPU cores\n",
      "INFO:pytorch_lightning.utilities.rank_zero:IPU available: False, using: 0 IPUs\n",
      "INFO:pytorch_lightning.utilities.rank_zero:HPU available: False, using: 0 HPUs\n",
      "INFO:pytorch_lightning.callbacks.model_summary:\n",
      "  | Name         | Type             | Params\n",
      "--------------------------------------------------\n",
      "0 | efficientnet | EfficientNet     | 5.3 M \n",
      "1 | embedding    | Sequential       | 4.0 M \n",
      "2 | classifier   | Sequential       | 384 K \n",
      "3 | loss         | CrossEntropyLoss | 0     \n",
      "--------------------------------------------------\n",
      "384 K     Trainable params\n",
      "5.3 M     Non-trainable params\n",
      "5.7 M     Total params\n",
      "22.691    Total estimated model params size (MB)\n"
     ]
    },
    {
     "data": {
      "application/vnd.jupyter.widget-view+json": {
       "model_id": "baad857099d64b789ec913d9602cd605",
       "version_major": 2,
       "version_minor": 0
      },
      "text/plain": [
       "Sanity Checking: 0it [00:00, ?it/s]"
      ]
     },
     "metadata": {},
     "output_type": "display_data"
    }
   ],
   "source": [
    "from pytorch_lightning import Trainer\n",
    "from pytorch_lightning.callbacks import TQDMProgressBar, EarlyStopping\n",
    "from sklearn.model_selection import train_test_split\n",
    "\n",
    "img_dir = \"../food\"\n",
    "train_triplets_path = \"../train_triplets.txt\"\n",
    "triplets_path = \"../triplets.txt\"\n",
    "train_split_path = \"../train_split.txt\"\n",
    "val_split_path = \"../val_split.txt\"\n",
    "\n",
    "AVAIL_GPUS = min(1, torch.cuda.device_count())\n",
    "learning_rate = 0.063\n",
    "batch_size = 64\n",
    "num_workers = 8\n",
    "\n",
    "# get triplets\n",
    "with open(train_triplets_path) as f:\n",
    "    triplets = f.readlines()\n",
    "triplets = [triplet.strip().split(\" \") for triplet in triplets]\n",
    "\n",
    "# for each triplet we create two samples and write to a new txt file:\n",
    "#  - one for the original triplet; with label 1\n",
    "#  - one with the second and third image swapped; with label 0\n",
    "with open(triplets_path, \"w\") as f:\n",
    "    for triplet in triplets:\n",
    "        f.writelines(\" \".join(triplet) + \" \" + str(1) + \"\\n\")\n",
    "        triplet[1], triplet[2] = triplet[2], triplet[1]\n",
    "        f.writelines(\" \".join(triplet) + \" \" + str(0) + \"\\n\")\n",
    "with open(triplets_path, \"r\") as f:\n",
    "    triplets = f.readlines()\n",
    "triplets = [triplet.strip().split(\" \") for triplet in triplets]\n",
    "\n",
    "# split into training and validation set\n",
    "train_triplets, val_triplets = train_test_split(\n",
    "    triplets, test_size=0.1, random_state=489, shuffle=True\n",
    ")\n",
    "\n",
    "# write training and validation set to txt (so that DataSet can access it)\n",
    "with open(train_split_path, \"w\") as f:\n",
    "    for item in train_triplets:\n",
    "        f.writelines(\" \".join(item) + \"\\n\")\n",
    "with open(val_split_path, \"w\") as f:\n",
    "    for item in val_triplets:\n",
    "        f.writelines(\" \".join(item) + \"\\n\")\n",
    "\n",
    "\n",
    "tfms = transforms.Compose(\n",
    "    [\n",
    "        transforms.Resize((224, 224)),\n",
    "        transforms.ToTensor(),\n",
    "        transforms.Normalize([0.485, 0.456, 0.406], [0.229, 0.224, 0.225]),\n",
    "    ]\n",
    ")  # could also try augmentation\n",
    "\n",
    "train_dataset = TripletsDataset(train_split_path, img_dir, tfms)\n",
    "val_dataset = TripletsDataset(val_split_path, img_dir, tfms)\n",
    "model = Classifier(train_dataset=train_dataset, val_dataset=val_dataset, batch_size=batch_size)\n",
    "\n",
    "\n",
    "bar = TQDMProgressBar(refresh_rate=1)\n",
    "early_stop_callback = EarlyStopping(\n",
    "    monitor=\"val_loss\", min_delta=0.0, patience=5, verbose=True\n",
    ")\n",
    "\n",
    "\n",
    "trainer = Trainer(\n",
    "    gpus=AVAIL_GPUS,\n",
    "    min_epochs=1,\n",
    "    max_epochs=250,\n",
    "    callbacks=[bar, early_stop_callback],\n",
    "    auto_lr_find=False,\n",
    "    auto_scale_batch_size=False,\n",
    ")\n",
    "# trainer.tune(model)\n",
    "trainer.fit(model)\n"
   ]
  },
  {
   "cell_type": "code",
   "execution_count": 21,
   "metadata": {},
   "outputs": [
    {
     "data": {
      "application/vnd.jupyter.widget-view+json": {
       "model_id": "7f399138ebac4df6a25fa05c82f1c398",
       "version_major": 2,
       "version_minor": 0
      },
      "text/plain": [
       "Predicting: 0it [00:00, ?it/s]"
      ]
     },
     "metadata": {},
     "output_type": "display_data"
    },
    {
     "name": "stderr",
     "output_type": "stream",
     "text": [
      "2022-04-18 15:08:50.153706: W tensorflow/stream_executor/platform/default/dso_loader.cc:64] Could not load dynamic library 'libcudart.so.11.0'; dlerror: libcudart.so.11.0: cannot open shared object file: No such file or directory\n",
      "2022-04-18 15:08:50.153731: I tensorflow/stream_executor/cuda/cudart_stub.cc:29] Ignore above cudart dlerror if you do not have a GPU set up on your machine.\n"
     ]
    }
   ],
   "source": [
    "test_path = \"../test_triplets.txt\"\n",
    "\n",
    "class TripletsTestset(Dataset):\n",
    "    def __init__(self, triplets_path, img_dir, transform=None):\n",
    "        self.triplets_path = triplets_path\n",
    "        self.img_dir = img_dir\n",
    "        self.transform = transform\n",
    "\n",
    "        with open(self.triplets_path) as f:\n",
    "            triplets = f.readlines()\n",
    "        self.triplets = [triplet.strip().split(\" \") for triplet in triplets][:50]\n",
    "\n",
    "    def __len__(self):\n",
    "        return len(self.triplets)\n",
    "\n",
    "    def __getitem__(self, idx):\n",
    "        triplet = self.triplets[idx]\n",
    "\n",
    "        paths = [os.path.join(self.img_dir, f\"{i}.jpg\") for i in triplet]\n",
    "        images = [Image.open(path) for path in paths]\n",
    "\n",
    "        if self.transform:\n",
    "            images = [self.transform(image) for image in images]\n",
    "\n",
    "        return images\n",
    "\n",
    "test_dataset = TripletsTestset(test_path, img_dir, tfms)\n",
    "test_loader = DataLoader(\n",
    "        dataset=test_dataset,\n",
    "        batch_size=batch_size,\n",
    "        num_workers=num_workers,\n",
    "    )\n",
    "predictions = trainer.predict(model, dataloaders=test_loader)"
   ]
  },
  {
   "cell_type": "code",
   "execution_count": 47,
   "metadata": {},
   "outputs": [
    {
     "name": "stderr",
     "output_type": "stream",
     "text": [
      "/tmp/ipykernel_41582/1687502151.py:6: UserWarning: Implicit dimension choice for softmax has been deprecated. Change the call to include dim=X as an argument.\n",
      "  sm.append(F.softmax(prediction))\n"
     ]
    }
   ],
   "source": [
    "sm = None\n",
    "y_hat = []\n",
    "\n",
    "for prediction in predictions[0]:\n",
    "    sm = F.softmax(prediction)\n",
    "    y_hat.append(1 if sm > 0.5 else 0)"
   ]
  },
  {
   "cell_type": "code",
   "execution_count": 50,
   "metadata": {},
   "outputs": [
    {
     "data": {
      "text/plain": [
       "[tensor([0.4657, 0.5343]),\n",
       " tensor([0.5067, 0.4933]),\n",
       " tensor([0.4949, 0.5051]),\n",
       " tensor([0.5322, 0.4678]),\n",
       " tensor([0.4708, 0.5292])]"
      ]
     },
     "execution_count": 50,
     "metadata": {},
     "output_type": "execute_result"
    }
   ],
   "source": [
    "sm[:5]"
   ]
  },
  {
   "cell_type": "code",
   "execution_count": 51,
   "metadata": {},
   "outputs": [
    {
     "data": {
      "text/plain": [
       "[0, 1, 0, 1, 0]"
      ]
     },
     "execution_count": 51,
     "metadata": {},
     "output_type": "execute_result"
    }
   ],
   "source": [
    "y_hat[:5]"
   ]
  },
  {
   "cell_type": "code",
   "execution_count": 55,
   "metadata": {},
   "outputs": [
    {
     "data": {
      "text/plain": [
       "tensor([[0.4657, 0.5343],\n",
       "        [0.5067, 0.4933],\n",
       "        [0.4949, 0.5051],\n",
       "        [0.5322, 0.4678],\n",
       "        [0.4708, 0.5292],\n",
       "        [0.4682, 0.5318],\n",
       "        [0.4455, 0.5545],\n",
       "        [0.4552, 0.5448],\n",
       "        [0.4542, 0.5458],\n",
       "        [0.4761, 0.5239],\n",
       "        [0.4623, 0.5377],\n",
       "        [0.4954, 0.5046],\n",
       "        [0.4844, 0.5156],\n",
       "        [0.4802, 0.5198],\n",
       "        [0.4772, 0.5228],\n",
       "        [0.4739, 0.5261],\n",
       "        [0.4928, 0.5072],\n",
       "        [0.4702, 0.5298],\n",
       "        [0.4452, 0.5548],\n",
       "        [0.4081, 0.5919],\n",
       "        [0.4504, 0.5496],\n",
       "        [0.4788, 0.5212],\n",
       "        [0.4631, 0.5369],\n",
       "        [0.4554, 0.5446],\n",
       "        [0.4540, 0.5460],\n",
       "        [0.4987, 0.5013],\n",
       "        [0.4705, 0.5295],\n",
       "        [0.4899, 0.5101],\n",
       "        [0.4489, 0.5511],\n",
       "        [0.4766, 0.5234],\n",
       "        [0.4982, 0.5018],\n",
       "        [0.4909, 0.5091],\n",
       "        [0.5087, 0.4913],\n",
       "        [0.4735, 0.5265],\n",
       "        [0.4235, 0.5765],\n",
       "        [0.4552, 0.5448],\n",
       "        [0.4573, 0.5427],\n",
       "        [0.4834, 0.5166],\n",
       "        [0.4746, 0.5254],\n",
       "        [0.4864, 0.5136],\n",
       "        [0.4601, 0.5399],\n",
       "        [0.4503, 0.5497],\n",
       "        [0.4710, 0.5290],\n",
       "        [0.4972, 0.5028],\n",
       "        [0.4266, 0.5734],\n",
       "        [0.4611, 0.5389],\n",
       "        [0.4732, 0.5268],\n",
       "        [0.4545, 0.5455],\n",
       "        [0.4885, 0.5115],\n",
       "        [0.4581, 0.5419]])"
      ]
     },
     "execution_count": 55,
     "metadata": {},
     "output_type": "execute_result"
    }
   ],
   "source": [
    "F.softmax(predictions[0], dim=1)"
   ]
  },
  {
   "cell_type": "code",
   "execution_count": 53,
   "metadata": {},
   "outputs": [
    {
     "data": {
      "text/plain": [
       "<module 'torch.nn.functional' from '/home/fabio/miniconda3/envs/intro-ml/lib/python3.8/site-packages/torch/nn/functional.py'>"
      ]
     },
     "execution_count": 53,
     "metadata": {},
     "output_type": "execute_result"
    }
   ],
   "source": []
  },
  {
   "cell_type": "code",
   "execution_count": null,
   "metadata": {},
   "outputs": [],
   "source": []
  }
 ],
 "metadata": {
  "interpreter": {
   "hash": "cd77a25fb6a60ea2ba875a28c7c94dfd43c3166db76578799a5a67b58aaf5dd6"
  },
  "kernelspec": {
   "display_name": "Python 3.8.13 ('intro-ml')",
   "language": "python",
   "name": "python3"
  },
  "language_info": {
   "codemirror_mode": {
    "name": "ipython",
    "version": 3
   },
   "file_extension": ".py",
   "mimetype": "text/x-python",
   "name": "python",
   "nbconvert_exporter": "python",
   "pygments_lexer": "ipython3",
   "version": "3.8.13"
  },
  "orig_nbformat": 4
 },
 "nbformat": 4,
 "nbformat_minor": 2
}
