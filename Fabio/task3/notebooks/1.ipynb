{
 "cells": [
  {
   "cell_type": "code",
   "execution_count": 1,
   "metadata": {},
   "outputs": [],
   "source": [
    "import sys\n",
    "import logging\n",
    "\n",
    "import numpy as np\n",
    "import scipy as sp\n",
    "\n",
    "%reload_ext autoreload\n",
    "%autoreload 2\n",
    "\n",
    "import matplotlib.pyplot as plt\n",
    "%matplotlib inline\n",
    "%config InlineBackend.figure_format = 'retina'\n",
    "\n",
    "import seaborn as sns\n",
    "sns.set_context(\"poster\")\n",
    "sns.set(rc={'figure.figsize': (16, 9.)})\n",
    "sns.set_style(\"whitegrid\")\n",
    "\n",
    "import pandas as pd\n",
    "pd.set_option(\"display.max_rows\", 120)\n",
    "pd.set_option(\"display.max_columns\", 120)\n",
    "\n",
    "logging.basicConfig(level=logging.INFO, stream=sys.stdout)"
   ]
  },
  {
   "cell_type": "code",
   "execution_count": 2,
   "metadata": {},
   "outputs": [],
   "source": [
    "from PIL import Image\n",
    "\n",
    "import torch\n",
    "from torch import nn\n",
    "from torch.utils.data import Dataset, DataLoader\n",
    "from torchvision import models, io, transforms\n",
    "\n",
    "import pytorch_lightning as pl\n",
    "from pytorch_lightning.callbacks import ModelCheckpoint, EarlyStopping\n"
   ]
  },
  {
   "cell_type": "code",
   "execution_count": 3,
   "metadata": {},
   "outputs": [
    {
     "name": "stdout",
     "output_type": "stream",
     "text": [
      "Loaded pretrained weights for efficientnet-b3\n",
      "torch.Size([1, 3, 224, 224])\n",
      "torch.Size([1536, 7, 7])\n"
     ]
    }
   ],
   "source": [
    "from efficientnet_pytorch import EfficientNet\n",
    "\n",
    "model = EfficientNet.from_pretrained(\"efficientnet-b3\")\n",
    "\n",
    "# ... image preprocessing as in the classification example ...\n",
    "tfms = transforms.Compose(\n",
    "    [\n",
    "        transforms.Resize((224, 224)),\n",
    "        transforms.ToTensor(),\n",
    "        transforms.Normalize([0.485, 0.456, 0.406], [0.229, 0.224, 0.225]),\n",
    "    ]\n",
    ")\n",
    "img = tfms(Image.open(\"../food/00002.jpg\")).unsqueeze(0)\n",
    "print(img.shape)  # torch.Size([1, 3, 224, 224])\n",
    "\n",
    "phi1 = model.extract_features(img)\n",
    "print(phi1.squeeze().shape)  # torch.Size([1, 1280, 7, 7])\n"
   ]
  },
  {
   "cell_type": "code",
   "execution_count": 25,
   "metadata": {},
   "outputs": [],
   "source": [
    "embedding_dim = 1536\n",
    "n_samples = 100_000\n",
    "\n",
    "tfms = transforms.Compose(\n",
    "    [\n",
    "        transforms.Resize((224, 224)),\n",
    "        transforms.RandomHorizontalFlip(),\n",
    "        transforms.ToTensor(),\n",
    "        transforms.Normalize([0.485, 0.456, 0.406], [0.229, 0.224, 0.225]),\n",
    "    ]\n",
    ")\n",
    "\n",
    "pretrained = True\n",
    "efficientnet = models.efficientnet_b3(pretrained=pretrained)\n",
    "embedding = nn.Sequential(*list(efficientnet.children())[:-1])\n",
    "\n",
    "# embeddings\n",
    "embeddings = np.empty((n_samples, embedding_dim))\n",
    "\n",
    "\n",
    "# with torch.no_grad():\n",
    "#     for i in range(n_samples + 1):\n",
    "#         path = '../food/' + str(i).rjust(5, '0') + '.jpg'\n",
    "#         embeddings[i] = embedding(tfms(Image.open(path)).unsqueeze(0)).squeeze().detach().numpy()\n",
    "\n",
    "import pickle\n",
    "\n",
    "filename = \"../embeddings.pkl\"\n",
    "# outfile = open(filename, \"wb\")\n",
    "# pickle.dump(embeddings, outfile)\n",
    "# outfile.close()\n"
   ]
  },
  {
   "cell_type": "code",
   "execution_count": 3,
   "metadata": {},
   "outputs": [],
   "source": [
    "embedding_dim = 1536\n",
    "n_samples = 2*59515\n",
    "\n",
    "embeddings = np.random.random((100_000, 1536))\n",
    "X = np.random.random((n_samples, 3*embedding_dim))\n",
    "y = np.random.choice([0,1],n_samples)\n",
    "\n",
    "# triplets = []\n",
    "# for line in open(\"../train_triplets.txt\"):\n",
    "#     triplet = line.strip().split(\" \")\n",
    "#     triplets.append(triplet)\n",
    "\n",
    "# for i, triplet in enumerate(triplets):\n",
    "#     a, b, c = [int(i) for i in triplet]\n",
    "#     X[2*i], y[2*i] = np.concatenate((embeddings[a], embeddings[b], embeddings[c])), 1\n",
    "#     X[2*i + 1], y[2*i + 1] = np.concatenate((embeddings[a], embeddings[c], embeddings[b])), 0"
   ]
  },
  {
   "cell_type": "code",
   "execution_count": 4,
   "metadata": {},
   "outputs": [
    {
     "name": "stdout",
     "output_type": "stream",
     "text": [
      "Binning 3.949 GB of training data: 118.387 s\n",
      "Binning 0.439 GB of validation data: 3.518 s\n",
      "Fitting gradient boosted rounds:\n",
      "[1/100] 1 tree, 8 leaves, max depth = 3, train score: 0.51164, val score: 0.49888, in 0.559s\n",
      "[2/100] 1 tree, 8 leaves, max depth = 3, train score: 0.51457, val score: 0.50140, in 0.359s\n",
      "[3/100] 1 tree, 8 leaves, max depth = 3, train score: 0.51969, val score: 0.49889, in 0.353s\n",
      "[4/100] 1 tree, 8 leaves, max depth = 3, train score: 0.52839, val score: 0.49641, in 0.369s\n",
      "[5/100] 1 tree, 8 leaves, max depth = 3, train score: 0.53658, val score: 0.49378, in 0.338s\n",
      "[6/100] 1 tree, 8 leaves, max depth = 3, train score: 0.54248, val score: 0.49527, in 0.348s\n",
      "[7/100] 1 tree, 8 leaves, max depth = 3, train score: 0.55057, val score: 0.49727, in 0.334s\n",
      "[8/100] 1 tree, 8 leaves, max depth = 3, train score: 0.55545, val score: 0.50301, in 0.368s\n",
      "[9/100] 1 tree, 8 leaves, max depth = 3, train score: 0.55865, val score: 0.50664, in 0.371s\n",
      "[10/100] 1 tree, 8 leaves, max depth = 3, train score: 0.56106, val score: 0.50589, in 0.328s\n",
      "[11/100] 1 tree, 8 leaves, max depth = 3, train score: 0.56064, val score: 0.50851, in 0.370s\n",
      "[12/100] 1 tree, 8 leaves, max depth = 3, train score: 0.56247, val score: 0.50707, in 0.324s\n",
      "[13/100] 1 tree, 8 leaves, max depth = 3, train score: 0.56739, val score: 0.50412, in 0.377s\n",
      "[14/100] 1 tree, 8 leaves, max depth = 3, train score: 0.57105, val score: 0.50469, in 0.392s\n",
      "[15/100] 1 tree, 8 leaves, max depth = 3, train score: 0.57479, val score: 0.50372, in 0.410s\n",
      "[16/100] 1 tree, 8 leaves, max depth = 3, train score: 0.57876, val score: 0.50441, in 0.446s\n",
      "[17/100] 1 tree, 8 leaves, max depth = 3, train score: 0.58192, val score: 0.50511, in 0.519s\n",
      "[18/100] 1 tree, 8 leaves, max depth = 3, train score: 0.58452, val score: 0.50518, in 0.388s\n",
      "[19/100] 1 tree, 8 leaves, max depth = 3, train score: 0.58561, val score: 0.50401, in 0.425s\n",
      "[20/100] 1 tree, 8 leaves, max depth = 3, train score: 0.58781, val score: 0.50528, in 0.483s\n",
      "[21/100] 1 tree, 8 leaves, max depth = 3, train score: 0.58966, val score: 0.50565, in 0.686s\n",
      "Fit 21 trees in 138.228 s, (168 total leaves)\n",
      "Time spent computing histograms: 2.579s\n",
      "Time spent finding best splits:  0.410s\n",
      "Time spent applying splits:      0.015s\n",
      "Time spent predicting:           0.014s\n"
     ]
    },
    {
     "data": {
      "text/plain": [
       "HistGradientBoostingClassifier(early_stopping=True, l2_regularization=0.1,\n",
       "                               learning_rate=0.2, loss='binary_crossentropy',\n",
       "                               max_depth=3, scoring='roc_auc', verbose=2)"
      ]
     },
     "execution_count": 4,
     "metadata": {},
     "output_type": "execute_result"
    }
   ],
   "source": [
    "from sklearn.ensemble import HistGradientBoostingClassifier\n",
    "\n",
    "params = {\"loss\": \"binary_crossentropy\",\n",
    "    \"early_stopping\": True,\n",
    "    \"scoring\": \"roc_auc\",\n",
    "    \"l2_regularization\": 0.1,\n",
    "        \"learning_rate\": 0.2,\n",
    "        \"max_depth\": 3,\n",
    "\n",
    "}\n",
    "\n",
    "hgbc = HistGradientBoostingClassifier(\n",
    "    **params, verbose=2\n",
    ")\n",
    "hgbc.fit(X, y)  # fit"
   ]
  }
 ],
 "metadata": {
  "interpreter": {
   "hash": "cd77a25fb6a60ea2ba875a28c7c94dfd43c3166db76578799a5a67b58aaf5dd6"
  },
  "kernelspec": {
   "display_name": "Python 3.7.11 ('intro-ml')",
   "language": "python",
   "name": "python3"
  },
  "language_info": {
   "codemirror_mode": {
    "name": "ipython",
    "version": 3
   },
   "file_extension": ".py",
   "mimetype": "text/x-python",
   "name": "python",
   "nbconvert_exporter": "python",
   "pygments_lexer": "ipython3",
   "version": "3.8.13"
  },
  "orig_nbformat": 4
 },
 "nbformat": 4,
 "nbformat_minor": 2
}
